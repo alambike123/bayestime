{
 "cells": [
  {
   "cell_type": "markdown",
   "metadata": {},
   "source": [
    "# Week 05\n",
    "# Lab\n",
    "## Poisson regression modeling"
   ]
  },
  {
   "cell_type": "markdown",
   "metadata": {},
   "source": [
    "## Load Libraries"
   ]
  },
  {
   "cell_type": "code",
   "execution_count": null,
   "metadata": {},
   "outputs": [],
   "source": [
    "# for reading json files\n",
    "import json\n",
    "\n",
    "# numerical libraries\n",
    "import numpy as np\n",
    "import scipy as sp\n",
    "import pystan\n",
    "\n",
    "# pandas!\n",
    "import pandas as pd\n",
    "\n",
    "# plotting libraries\n",
    "import matplotlib.pyplot as plt\n",
    "import matplotlib.cm as cm\n",
    "import seaborn as sns\n",
    "%pylab inline"
   ]
  },
  {
   "cell_type": "code",
   "execution_count": null,
   "metadata": {},
   "outputs": [],
   "source": [
    "sns.set(style=\"white\")"
   ]
  },
  {
   "cell_type": "markdown",
   "metadata": {},
   "source": [
    "## Make a nice machine-readable dataset\n",
    "\n",
    "Convert the posted Stata file into a JSON with column definitions and other metadata."
   ]
  },
  {
   "cell_type": "code",
   "execution_count": null,
   "metadata": {},
   "outputs": [],
   "source": [
    "# read in raw stata dataset\n",
    "nmes_df = pd.read_stata('../../data/nmes.dta')"
   ]
  },
  {
   "cell_type": "code",
   "execution_count": null,
   "metadata": {},
   "outputs": [],
   "source": [
    "# rename columns using lower case\n",
    "col_rename = {}\n",
    "for s in list(nmes_df.columns):\n",
    "    col_rename[s] = str.lower(s)"
   ]
  },
  {
   "cell_type": "code",
   "execution_count": null,
   "metadata": {},
   "outputs": [],
   "source": [
    "# variable definitions from the paper\n",
    "var_def = {'ofp':'visits to a physician in an office setting',\n",
    "           'ofnp':'visits to a non-physician in an office setting',\n",
    "           'opp':'visits to a physician in a hospital outpatient setting',\n",
    "           'opnp':'visits to a non-physician in an outpatient setting',\n",
    "           'emr':'visits to an emergency room',\n",
    "           'hosp':'number of hospital stays',\n",
    "           'exclhlth':'perceived excellent health',\n",
    "           'poorhlth':'perceived poor health',\n",
    "           'numchron':'number of chronic diseases and conditions',\n",
    "           'adldiff':'measure of disability status',\n",
    "           'noreast':'indicator, northeast united stats',\n",
    "           'midwest':'indicator, midwest united states',\n",
    "           'west':'indicator, western united states',\n",
    "           'age':'age',\n",
    "           'afamn':'indicator, 1 if african american',\n",
    "           'male':'indicator, 1 if male',\n",
    "           'married':'indicator, 1 if married',\n",
    "           'school':'level of education',\n",
    "           'faminc':'family income',\n",
    "           'employed':'indicator, 1 if employed',\n",
    "           'privins':'indicator, 1 if person has private supplementary insurance',\n",
    "           'medicaid':'indicator, 1 if person has medicaid'\n",
    "          }"
   ]
  },
  {
   "cell_type": "code",
   "execution_count": null,
   "metadata": {},
   "outputs": [],
   "source": [
    "# define the metadata for the dataset\n",
    "nmes_dict = {'info':'The data are obtained from the National Medical Expenditure Survey (NMES) which was conducted in 1987 and 1988 to provide a comprehensive picture of how Americans use and pay for health services. The NMES is based upon a representative, national probability sample of the civilian, non-institutionalized population and individuals admitted to long-term care facilities during 1987. Under the household survey of the NMES, more than 38000 individuals in 15000 households across the United States were interviewed quarterly about their health insurance coverage, the services they used, and the cost and source of payments of those services. These data were verified by cross-checking information provided by survey respondents with providers of health-care services. In addition to health-care data, NMES provides information on health status, employment, sociodemographic characteristics, and economic status. In this paper we consider a subsample of individuals ages 66 and over (a total of 4406 observations) all of whom are covered by Medicare, a public insurance programme that offers substantial protection against health care costs.',\n",
    "             'source':'Partha Deb and Pravin K. Trivedi, 1997, Journal of Applied Econometrics, Volume 12, Number 3. Demand for Medical Care by the Elderly: A Finite Mixture Approach',\n",
    "             'url':'http://cameron.econ.ucdavis.edu/racd2/racd06data1healthcare.dta',\n",
    "             'vars':var_def\n",
    "            }"
   ]
  },
  {
   "cell_type": "code",
   "execution_count": null,
   "metadata": {},
   "outputs": [],
   "source": [
    "# pandas rename columns\n",
    "nmes_df.rename(columns=col_rename, inplace=True)\n",
    "nmes_df.index.name = 'patient'\n",
    "\n",
    "# and output the dataframe to a dictionary\n",
    "nmes_dict['data'] = nmes_df.to_dict()\n",
    "\n",
    "# and output data to a csv\n",
    "nmes_df.to_csv('../../data/nmes_data.csv')"
   ]
  },
  {
   "cell_type": "code",
   "execution_count": null,
   "metadata": {},
   "outputs": [],
   "source": [
    "# write metadata to a dictionary\n",
    "with open('../../data/nmes_data.json', 'w') as fp:\n",
    "    json.dump(nmes_dict, fp)\n",
    "\n",
    "# close the file\n",
    "fp.close()"
   ]
  },
  {
   "cell_type": "markdown",
   "metadata": {},
   "source": [
    "## Load Data"
   ]
  },
  {
   "cell_type": "markdown",
   "metadata": {},
   "source": [
    "### A function to print a long string nicely"
   ]
  },
  {
   "cell_type": "code",
   "execution_count": null,
   "metadata": {},
   "outputs": [],
   "source": [
    "def print_info(info,wpl=12):\n",
    "    \"\"\"\n",
    "    nicely print a long paragraph\n",
    "    \"\"\"\n",
    "    \n",
    "    long_info = info.split()\n",
    "    num_lines = round(len(long_info) / wpl)\n",
    "    \n",
    "    info_break = []\n",
    "    \n",
    "    # break up the long string into multiple lines\n",
    "    for i in range(num_lines):\n",
    "        hld = ''\n",
    "        chunk = long_info[wpl*i:wpl*(i+1)]\n",
    "        \n",
    "        # piece each line into one string\n",
    "        for i in range(len(chunk)):\n",
    "            hld = hld + chunk[i] + ' '\n",
    "        \n",
    "        info_break.append(hld)\n",
    "    \n",
    "    # now print!\n",
    "    for i in range(len(info_break)):\n",
    "        print(info_break[i])"
   ]
  },
  {
   "cell_type": "code",
   "execution_count": null,
   "metadata": {},
   "outputs": [],
   "source": [
    "def print_vars(var_dict):\n",
    "    \"\"\"\n",
    "    nicely print the infomation about each variable\n",
    "    \"\"\"\n",
    "    # what's the longest variable name?\n",
    "    max_len = 0\n",
    "    for k in var_dict.keys():\n",
    "        if len(k) > max_len:\n",
    "            max_len = len(k)\n",
    "    \n",
    "    for k in var_dict.keys():\n",
    "        len_k = len(k)\n",
    "        print(str(k) + ' '*(max_len - len_k + 1) + ' :::  ' + var_dict[k])"
   ]
  },
  {
   "cell_type": "markdown",
   "metadata": {},
   "source": [
    "## Read in data"
   ]
  },
  {
   "cell_type": "code",
   "execution_count": null,
   "metadata": {},
   "outputs": [],
   "source": [
    "# read json file into a dictionary\n",
    "with open('../../data/nmes_data.json', 'r') as f:\n",
    "    json_data = json.load(f)\n",
    "\n",
    "# close the file\n",
    "f.close()"
   ]
  },
  {
   "cell_type": "code",
   "execution_count": null,
   "metadata": {},
   "outputs": [],
   "source": [
    "# what's the source?\n",
    "print(json_data['source'])"
   ]
  },
  {
   "cell_type": "code",
   "execution_count": null,
   "metadata": {},
   "outputs": [],
   "source": [
    "# where can i get these data?\n",
    "print(json_data['url'])"
   ]
  },
  {
   "cell_type": "code",
   "execution_count": null,
   "metadata": {},
   "outputs": [],
   "source": [
    "# print some info about the dataset\n",
    "print_info(json_data['info'])"
   ]
  },
  {
   "cell_type": "code",
   "execution_count": null,
   "metadata": {},
   "outputs": [],
   "source": [
    "# what variables are in the dataset?\n",
    "print_vars(json_data['vars'])"
   ]
  },
  {
   "cell_type": "code",
   "execution_count": null,
   "metadata": {},
   "outputs": [],
   "source": [
    "# just give it to me in a dataframe\n",
    "data = pd.DataFrame(json_data['data'])\n",
    "data.head(10)"
   ]
  },
  {
   "cell_type": "code",
   "execution_count": null,
   "metadata": {},
   "outputs": [],
   "source": [
    "data.describe()"
   ]
  },
  {
   "cell_type": "markdown",
   "metadata": {},
   "source": [
    "### Healthcare Visits by Medicare Recipients\n",
    "\n",
    "From \"Demand for Medical Care by the Elderly: A Finite Mixture Approach\" by Partha Deb and Pravin K. Trivedi, Journal of Applied Econometrics, Vol. 12, No. 3, 1997.\n",
    ">Cost and access continue to be the fundamental issues in the debate over the future of the American health-care system. An important element of this debate concerns the health-care needs of the elderly. During the past two decades, the population aged 65 and over has increased more than twice as fast as the younger population and they account for a disproportionate share of medical care expenditures.' This disproportionate share of expenditures can be attributed, in part, to the relatively greater need of the elderly for individualized care, and the increasing incidence of chronic diseases and impairment with age. Therefore, the increasing size and life expectancy of the elderly population have significant implications for health care: this motivates the present study.\n",
    "\n",
    "We are interested in understanding the 6 separate measures of healthcare utilization provided in the NMES data. Those 6 measures are:\n",
    "1. ofp  ::: visits to a physician in an office setting\n",
    "2. ofnp ::: visits to a non-physician in an office setting\n",
    "3. opp  ::: visits to a physician in a hospital outpatient setting\n",
    "4. opnp ::: visits to a non-physician in an outpatient setting\n",
    "5. emr  ::: visits to an emergency room\n",
    "6. hosp ::: number of hospital stays\n",
    "\n",
    "We will model each measure using a count data regression. We will begin by assuming the data follow a Poisson likelihood and estimate separate models for each measure. All regression models will use the same set of regressors:"
   ]
  },
  {
   "cell_type": "code",
   "execution_count": null,
   "metadata": {},
   "outputs": [],
   "source": [
    "depvars = ['ofp','ofnp','opp','opnp','emr','hosp']"
   ]
  },
  {
   "cell_type": "code",
   "execution_count": null,
   "metadata": {},
   "outputs": [],
   "source": [
    "test = np.array(data[['exclhlth', 'poorhlth','numchron', 'adldiff',\n",
    "               'noreast','midwest','west','age',\n",
    "               'black','male','married','school',\n",
    "               'faminc','employed','privins','medicaid']])"
   ]
  },
  {
   "cell_type": "code",
   "execution_count": null,
   "metadata": {},
   "outputs": [],
   "source": [
    "test"
   ]
  },
  {
   "cell_type": "code",
   "execution_count": null,
   "metadata": {},
   "outputs": [],
   "source": [
    "x_nmes = np.hstack([np.ones((len(data),1)),np.array(data[['exclhlth', 'poorhlth','numchron', 'adldiff',\n",
    "               'noreast','midwest','west','age',\n",
    "               'black','male','married','school',\n",
    "               'faminc','employed','privins','medicaid']\n",
    "             ])])"
   ]
  },
  {
   "cell_type": "code",
   "execution_count": null,
   "metadata": {},
   "outputs": [],
   "source": [
    "x_nmes.shape"
   ]
  },
  {
   "cell_type": "code",
   "execution_count": null,
   "metadata": {},
   "outputs": [],
   "source": [
    "x_nmes"
   ]
  },
  {
   "cell_type": "code",
   "execution_count": null,
   "metadata": {},
   "outputs": [],
   "source": []
  },
  {
   "cell_type": "code",
   "execution_count": null,
   "metadata": {},
   "outputs": [],
   "source": [
    "# construct stan dictionaries\n",
    "stan_dict = {}\n",
    "\n",
    "for d in depvars:\n",
    "    stan_dict[d] = {}\n",
    "    stan_dict[d]['x'] = np.array(x_nmes)\n",
    "    stan_dict[d]['y'] = np.array(data[d],dtype=int)\n",
    "    stan_dict[d]['N'] = x_nmes.shape[0]\n",
    "    stan_dict[d]['K'] = x_nmes.shape[1]"
   ]
  },
  {
   "cell_type": "code",
   "execution_count": null,
   "metadata": {},
   "outputs": [],
   "source": [
    "stan_dict['ofp']"
   ]
  },
  {
   "cell_type": "markdown",
   "metadata": {},
   "source": [
    "## Poisson regression"
   ]
  },
  {
   "cell_type": "code",
   "execution_count": null,
   "metadata": {},
   "outputs": [],
   "source": [
    "# what's in this stan model anyway?\n",
    "f = open('../../stan/poisson_reg.stan', 'r')\n",
    "file_contents = f.read()\n",
    "print (file_contents)\n",
    "f.close()"
   ]
  },
  {
   "cell_type": "code",
   "execution_count": null,
   "metadata": {},
   "outputs": [],
   "source": [
    "# compile Stan model\n",
    "pois_model = pystan.StanModel(file=\"../../stan/poisson_reg.stan\")"
   ]
  },
  {
   "cell_type": "code",
   "execution_count": null,
   "metadata": {},
   "outputs": [],
   "source": [
    "# construct stan dictionaries\n",
    "fit_dict = {}\n",
    "\n",
    "for d in depvars:\n",
    "    # nice message\n",
    "    print('Estimating model for '+str(d)+'!')\n",
    "    \n",
    "    # conduct inference\n",
    "    fit = pois_model.sampling(data=stan_dict[d],iter=2000,chains=4)    \n",
    "    \n",
    "    # store dictionary of results\n",
    "    fit_dict[d] = fit.extract(permuted=True)\n",
    "\n",
    "print('')\n",
    "print('Done!')\n",
    "print('')"
   ]
  },
  {
   "cell_type": "code",
   "execution_count": null,
   "metadata": {},
   "outputs": [],
   "source": [
    "# print some pretty summary stats about the posterior\n",
    "print(fit)"
   ]
  },
  {
   "cell_type": "code",
   "execution_count": null,
   "metadata": {},
   "outputs": [],
   "source": [
    "test = np.exp(fit_dict['ofp']['beta'])"
   ]
  },
  {
   "cell_type": "code",
   "execution_count": null,
   "metadata": {},
   "outputs": [],
   "source": [
    "fit_dict['ofp']['beta'][0,:]"
   ]
  },
  {
   "cell_type": "code",
   "execution_count": null,
   "metadata": {},
   "outputs": [],
   "source": [
    "data['ofp'][0]"
   ]
  },
  {
   "cell_type": "code",
   "execution_count": null,
   "metadata": {},
   "outputs": [],
   "source": [
    "y ~ poisson_log_glm(x, alpha, beta)"
   ]
  },
  {
   "cell_type": "code",
   "execution_count": null,
   "metadata": {},
   "outputs": [],
   "source": []
  },
  {
   "cell_type": "code",
   "execution_count": null,
   "metadata": {},
   "outputs": [],
   "source": [
    "plt.hist(data['ofp'],bins=np.arange(50))"
   ]
  },
  {
   "cell_type": "code",
   "execution_count": null,
   "metadata": {},
   "outputs": [],
   "source": [
    "np.mean(fit_dict['hosp']['beta'],axis=0).dot(x_nmes[idx[10]])"
   ]
  },
  {
   "cell_type": "code",
   "execution_count": null,
   "metadata": {},
   "outputs": [],
   "source": [
    "# random data points to plot\n",
    "idx = np.random.choice(np.arange(len(fit_dict['hosp']['beta'])),size=16,replace=False)\n",
    "\n",
    "# Initialise the figure and a subplot axes.\n",
    "num_rows = 4\n",
    "num_cols = 4\n",
    "fig, ax = plt.subplots(num_rows, num_cols, figsize=(16, 16))\n",
    "\n",
    "# overall title\n",
    "fig.suptitle('Graphical depictions of the posterior',y=1.025,fontsize=18,fontfamily='serif')\n",
    "\n",
    "c = 0\n",
    "for i in np.arange(4):\n",
    "    for j in np.arange(4):\n",
    "        ax[i,j].hist(np.random.poisson(np.mean(fit_dict['hosp']['beta'],axis=0).dot(x_nmes[idx[c]]),size=400),bins=np.arange(15))\n",
    "        ax[i,j].axvline(data['hosp'][idx[c]],color='red',lw=2)\n",
    "        c += 1\n",
    "\n",
    "# make the plot prettier\n",
    "plt.tight_layout()\n",
    "plt.show();      "
   ]
  },
  {
   "cell_type": "code",
   "execution_count": null,
   "metadata": {},
   "outputs": [],
   "source": []
  },
  {
   "cell_type": "code",
   "execution_count": null,
   "metadata": {},
   "outputs": [],
   "source": []
  },
  {
   "cell_type": "markdown",
   "metadata": {},
   "source": [
    "\n",
    "\n",
    "If the outcome for a single observation y is assumed to follow a Poisson distribution, the likelihood for one observation can be written as a conditionally Poisson PMF\n",
    "\n",
    "1y!λye−λ,\n",
    "\n",
    "where λ=E(y|x)=g−1(η) and η=α+x⊤β is a linear predictor. For the Poisson distribution it is also true that λ=Var(y|x), i.e. the mean and variance are both λ. Later in this vignette we also show how to estimate a negative binomial regression, which relaxes this assumption of equal conditional mean and variance of y.\n",
    "\n",
    "Because the rate parameter λ must be positive, for a Poisson GLM the link function g maps between the positive real numbers R+ (the support of λ) and the set of all real numbers R. When applied to a linear predictor η with values in R, the inverse link function g−1(η) therefore returns a positive real number.\n",
    "\n",
    "Although other link functions are possible, the canonical link function for a Poisson GLM is the log link g(x)=ln(x). With the log link, the inverse link function is simply the exponential function and the likelihood for a single observation becomes\n",
    "\n",
    "g−1(η)yy!e−g−1(η)=eηyy!e−eη."
   ]
  },
  {
   "cell_type": "code",
   "execution_count": null,
   "metadata": {},
   "outputs": [],
   "source": []
  },
  {
   "cell_type": "code",
   "execution_count": null,
   "metadata": {},
   "outputs": [],
   "source": []
  },
  {
   "cell_type": "code",
   "execution_count": null,
   "metadata": {},
   "outputs": [],
   "source": []
  }
 ],
 "metadata": {
  "kernelspec": {
   "display_name": "Python 3",
   "language": "python",
   "name": "python3"
  },
  "language_info": {
   "codemirror_mode": {
    "name": "ipython",
    "version": 3
   },
   "file_extension": ".py",
   "mimetype": "text/x-python",
   "name": "python",
   "nbconvert_exporter": "python",
   "pygments_lexer": "ipython3",
   "version": "3.7.3"
  }
 },
 "nbformat": 4,
 "nbformat_minor": 2
}
