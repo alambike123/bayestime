{
 "cells": [
  {
   "cell_type": "markdown",
   "metadata": {},
   "source": [
    "# Week 0\n",
    "## Building Blocks of Probability\n",
    "\n",
    "We work through the building blocks of probability by sampling using Python and Pandas."
   ]
  },
  {
   "cell_type": "markdown",
   "metadata": {},
   "source": [
    "## load libraries"
   ]
  },
  {
   "cell_type": "code",
   "execution_count": null,
   "metadata": {},
   "outputs": [],
   "source": [
    "# numerical libraries\n",
    "import numpy as np\n",
    "import scipy.special\n",
    "\n",
    "# pandas!\n",
    "import pandas as pd\n",
    "\n",
    "# plotting libraries\n",
    "import matplotlib.pyplot as plt\n",
    "import matplotlib.cm as cm\n",
    "import seaborn as sns\n",
    "%pylab inline"
   ]
  },
  {
   "cell_type": "markdown",
   "metadata": {},
   "source": [
    "## sampling\n",
    "\n",
    "Let's sample some random numbers and apply the naive definition of probability."
   ]
  },
  {
   "cell_type": "markdown",
   "metadata": {},
   "source": [
    "### rolling 1 die"
   ]
  },
  {
   "cell_type": "code",
   "execution_count": null,
   "metadata": {},
   "outputs": [],
   "source": [
    "# let's roll a 6-sided die\n",
    "num_times = 12\n",
    "rolls = np.linspace(1,num_times,num_times,dtype=int)\n",
    "lets_roll = np.random.randint(low=1,high=7,size=num_times)\n",
    "lets_roll"
   ]
  },
  {
   "cell_type": "code",
   "execution_count": null,
   "metadata": {},
   "outputs": [],
   "source": [
    "# let's put this in a dataframe and count how many times we rolled each number\n",
    "pd.DataFrame(np.vstack([rolls,lets_roll]).T,columns=['roll','die_1']).groupby('die_1').count()"
   ]
  },
  {
   "cell_type": "markdown",
   "metadata": {},
   "source": [
    "### rolling 2 dice"
   ]
  },
  {
   "cell_type": "code",
   "execution_count": null,
   "metadata": {},
   "outputs": [],
   "source": [
    "# let's roll 2 6-sided die\n",
    "num_times = 200\n",
    "rolls = np.linspace(1,num_times,num_times,dtype=int)\n",
    "lets_roll = np.random.randint(low=1,high=7,size=[num_times,2])\n",
    "#lets_roll"
   ]
  },
  {
   "cell_type": "code",
   "execution_count": null,
   "metadata": {},
   "outputs": [],
   "source": [
    "# now let's put this in a dataframe, so we can count\n",
    "dos = pd.DataFrame(np.hstack([rolls.reshape(num_times,1),lets_roll]),\n",
    "                   columns=['roll','die_1','die_2']\n",
    "                  )"
   ]
  },
  {
   "cell_type": "code",
   "execution_count": null,
   "metadata": {},
   "outputs": [],
   "source": [
    "# and let's sum the die up\n",
    "dos['total'] = dos.die_1 + dos.die_2"
   ]
  },
  {
   "cell_type": "code",
   "execution_count": null,
   "metadata": {},
   "outputs": [],
   "source": [
    "# and now count the number of times each sum appeared\n",
    "dos[['total','roll']].groupby('total').count()"
   ]
  },
  {
   "cell_type": "code",
   "execution_count": null,
   "metadata": {},
   "outputs": [],
   "source": [
    "# sometimes it's easier to plot things \n",
    "# to see if anything jumps out and to build intuition\n",
    "\n",
    "sns.distplot(dos['total'],kde=False) # use seaborn to make a pretty histogram\n",
    "plt.xlim(2,12) # set the limits of x-axis of the plot\n",
    "plt.xlabel('sum of 2 dice') # label the x-axis\n",
    "plt.ylabel('number of times sum appeared') # label the y-axis\n",
    "plt.title('Histogram: Sum of Two Dice, '+str(num_times)+' rolls') # make a nice title"
   ]
  },
  {
   "cell_type": "markdown",
   "metadata": {},
   "source": [
    "## variability of dice rolling\n",
    "\n",
    "How variable is this system? To get a sense for this, we will look at how the probability of rolling a 6 varies with the number of times we _roll_ the dice.\n",
    "\n",
    "First, apply the naive rule of probability to compute the plausibility of rolling a 6:\n",
    "\n",
    "$P(\\text{rolling a six}) = \\frac{|\\text{set of outcomes where total equals 6}|}{|\\text{set of all outcomes of two dice}|}$\n",
    "\n",
    "This equals? $P(\\text{rolling a six}) = $\n",
    "\n",
    "We expect some degree of variation in our simulated probability of rolling a six and our theoretically computed probability. The question is, how much? And, how much does that variability change if we roll the dice an increasing number of times?\n",
    "\n",
    "First, what did we get with our experiment earlier?"
   ]
  },
  {
   "cell_type": "code",
   "execution_count": null,
   "metadata": {},
   "outputs": [],
   "source": [
    "# how many six's?\n",
    "len(dos[dos.total == 6])"
   ]
  },
  {
   "cell_type": "code",
   "execution_count": null,
   "metadata": {},
   "outputs": [],
   "source": [
    "# how many rolls?\n",
    "num_times"
   ]
  },
  {
   "cell_type": "code",
   "execution_count": null,
   "metadata": {},
   "outputs": [],
   "source": [
    "# so our observed naive probability of rolling a 6 is?\n",
    "len(dos[dos.total == 6]) / num_times"
   ]
  },
  {
   "cell_type": "markdown",
   "metadata": {},
   "source": [
    "To get a sense of the variability in a sample of experiments, we need to automate experiment generation with code. We can do this with a series of functions that sample from the dice, compute the observerd proportions of rolling each number, and plotting the histogram of the probability of observing a particular sum of two dice.\n",
    "\n",
    "Please take apart each function so all of this isn't [wrapped in an enigma](http://churchill-society-london.org.uk/RusnEnig.html). "
   ]
  },
  {
   "cell_type": "code",
   "execution_count": null,
   "metadata": {},
   "outputs": [],
   "source": [
    "def just_roll_them(num_dice=2,num_rolls=100,num_exprmnts=100):\n",
    "    \"\"\"\n",
    "    sample from two dice, take the total, return \n",
    "    a dataframe of experiments\n",
    "    \"\"\"\n",
    "    \n",
    "    # total number of dice throws\n",
    "    tot_throws = num_rolls * num_exprmnts\n",
    "    \n",
    "    # build index of experiments and rolls\n",
    "    rolls = np.arange(1,num_rolls+1)\n",
    "    exprmnts = np.arange(1,num_exprmnts+1)\n",
    "    idx = np.stack(np.meshgrid(exprmnts,rolls),-1).reshape(-1,2)\n",
    "    \n",
    "    # sample from dice\n",
    "    samples = np.random.randint(low=1,high=7,size=[tot_throws,num_dice])\n",
    "    \n",
    "    # put it all together in a dataframe\n",
    "    res = pd.DataFrame(np.hstack([idx,samples]),columns=['exprmnt','roll','die_1','die_2'])\n",
    "    res['total'] = res.die_1 + res.die_2\n",
    "    \n",
    "    # return results\n",
    "    return res"
   ]
  },
  {
   "cell_type": "code",
   "execution_count": null,
   "metadata": {},
   "outputs": [],
   "source": [
    "def compute_prop(exprmnt,num_rolls):\n",
    "    \"\"\"\n",
    "    count dice totals and return nice dataframe\n",
    "    \n",
    "    takes dataframe produced by just_roll_them\n",
    "    \"\"\"\n",
    "    \n",
    "    # count up sums by experiment\n",
    "    count_df = exprmnt[['exprmnt','total','die_1']].groupby(['exprmnt','total']).count()\n",
    "    \n",
    "    # compute proportion\n",
    "    count_df['prop'] = count_df['die_1'] / num_rolls\n",
    "    \n",
    "    # rename columns and drop\n",
    "    count_df.rename(columns={'die_1':'obs'},inplace=True)\n",
    "    #count_df.drop(['die_2'],axis=1,inplace=True)\n",
    "    \n",
    "    return count_df"
   ]
  },
  {
   "cell_type": "code",
   "execution_count": null,
   "metadata": {},
   "outputs": [],
   "source": [
    "def plot_variability(c_df,dice_sum):\n",
    "    \"\"\"\n",
    "    plot the variability of observing dice_sum\n",
    "    in a dataframe produced by compute prob\n",
    "    \"\"\"\n",
    "    \n",
    "    sns.distplot(c_df[c_df.index.get_level_values('total').isin([dice_sum])]['prop'])\n",
    "    plt.xlabel('observered probability') # label the x-axis\n",
    "    plt.ylabel('density') # label the y-axis\n",
    "    plt.title('Histogram: Variability in Rolling a '+str(dice_sum)) # make a nice title"
   ]
  },
  {
   "cell_type": "code",
   "execution_count": null,
   "metadata": {},
   "outputs": [],
   "source": [
    "def assess_variability(dice_sum,num_rolls,num_exprmnts,num_dice):\n",
    "    \"\"\"\n",
    "    put all our helper functions together\n",
    "    and just produce a graph already!\n",
    "    \"\"\"\n",
    "    \n",
    "    rolls_df = just_roll_them(num_dice,num_rolls,num_exprmnts)\n",
    "    c_df = compute_prop(rolls_df,num_rolls)\n",
    "    plot_variability(c_df,dice_sum)    "
   ]
  },
  {
   "cell_type": "markdown",
   "metadata": {},
   "source": [
    "Let's focus on the chances of rolling an 8. How does this vary with the number of times we roll the dice in each experiment?"
   ]
  },
  {
   "cell_type": "code",
   "execution_count": null,
   "metadata": {},
   "outputs": [],
   "source": [
    "# what if we only roll the dice 25 times?\n",
    "# note the x-axis\n",
    "assess_variability(8,25,100,2)"
   ]
  },
  {
   "cell_type": "code",
   "execution_count": null,
   "metadata": {},
   "outputs": [],
   "source": [
    "# how about 1000 times?\n",
    "# compare the x-axis with the above graph\n",
    "# would you say you're more certain about the probability of rolling an 8?\n",
    "assess_variability(8,1000,100,2)"
   ]
  },
  {
   "cell_type": "markdown",
   "metadata": {},
   "source": [
    "Hopefully this result is intuitive, given all of your experience gambling and playing Settlers of Catan."
   ]
  },
  {
   "cell_type": "code",
   "execution_count": null,
   "metadata": {},
   "outputs": [],
   "source": []
  },
  {
   "cell_type": "code",
   "execution_count": null,
   "metadata": {},
   "outputs": [],
   "source": []
  },
  {
   "cell_type": "code",
   "execution_count": null,
   "metadata": {},
   "outputs": [],
   "source": []
  },
  {
   "cell_type": "markdown",
   "metadata": {},
   "source": [
    "## conditional probability with dice"
   ]
  },
  {
   "cell_type": "code",
   "execution_count": null,
   "metadata": {},
   "outputs": [],
   "source": []
  },
  {
   "cell_type": "code",
   "execution_count": null,
   "metadata": {},
   "outputs": [],
   "source": []
  },
  {
   "cell_type": "markdown",
   "metadata": {},
   "source": [
    "## binomial coefficient"
   ]
  },
  {
   "cell_type": "code",
   "execution_count": null,
   "metadata": {},
   "outputs": [],
   "source": [
    "# python implementation of binomial coefficient\n",
    "scipy.special.binom(4,2)"
   ]
  },
  {
   "cell_type": "code",
   "execution_count": null,
   "metadata": {},
   "outputs": [],
   "source": []
  }
 ],
 "metadata": {
  "kernelspec": {
   "display_name": "Python 3",
   "language": "python",
   "name": "python3"
  },
  "language_info": {
   "codemirror_mode": {
    "name": "ipython",
    "version": 3
   },
   "file_extension": ".py",
   "mimetype": "text/x-python",
   "name": "python",
   "nbconvert_exporter": "python",
   "pygments_lexer": "ipython3",
   "version": "3.7.3"
  }
 },
 "nbformat": 4,
 "nbformat_minor": 2
}
