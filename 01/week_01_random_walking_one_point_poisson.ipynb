{
 "cells": [
  {
   "cell_type": "markdown",
   "metadata": {},
   "source": [
    "# Week 1\n",
    "## Implement random walk experiment to demonstrate CLT and a Gamma-Poisson model in Stan estimated on just one point\n"
   ]
  },
  {
   "cell_type": "markdown",
   "metadata": {},
   "source": [
    "## load libraries"
   ]
  },
  {
   "cell_type": "code",
   "execution_count": null,
   "metadata": {},
   "outputs": [],
   "source": [
    "# numerical libraries\n",
    "import numpy as np\n",
    "import scipy.stats as st\n",
    "import pandas as pd\n",
    "\n",
    "# stan!\n",
    "import pystan\n",
    "\n",
    "# plotting libraries\n",
    "import matplotlib.pyplot as plt\n",
    "import seaborn as sns\n",
    "%pylab inline"
   ]
  },
  {
   "cell_type": "markdown",
   "metadata": {},
   "source": [
    "## Friends flip out and get the CLT\n",
    "\n",
    "Suppose you and a thousand of your closest friends line up on the halfway line of a soccer field. Each of you has a coin in your hand. At the sound of a whistle, you begin flipping the coins. Each time a coin comes up heads, that person moves one step towards the left-hand goal. Each time a coin comes up tails, that person moves one step towards the right-hand goal.\n",
    "\n",
    "Each person flips the coin 16 times, follows the implied moves, and then stands still. Now we measure the distance of each person from the halfway line. Can you predict the proportion of people who are standing on the halfway line? How about the proportion 5 yards away? We claim that the distribution of people around the halfway line will be approximately normal."
   ]
  },
  {
   "cell_type": "code",
   "execution_count": null,
   "metadata": {},
   "outputs": [],
   "source": [
    "# how many friends do you have?\n",
    "n_friends = 500\n",
    "\n",
    "# how many steps?\n",
    "n_steps = 32"
   ]
  },
  {
   "cell_type": "code",
   "execution_count": null,
   "metadata": {},
   "outputs": [],
   "source": [
    "# simulate walks\n",
    "walks = np.random.uniform(low=-1,high=1,size=[n_friends,n_steps])"
   ]
  },
  {
   "cell_type": "code",
   "execution_count": null,
   "metadata": {},
   "outputs": [],
   "source": [
    "# sum up each period's roll to get position\n",
    "pos = np.cumsum(walks,axis=1)"
   ]
  },
  {
   "cell_type": "code",
   "execution_count": null,
   "metadata": {},
   "outputs": [],
   "source": [
    "# add the starting position\n",
    "pos = np.hstack([np.zeros(shape=[n_friends,1]),pos])"
   ]
  },
  {
   "cell_type": "code",
   "execution_count": null,
   "metadata": {},
   "outputs": [],
   "source": [
    "# how many lines to draw?\n",
    "n_lines = 50\n",
    "idx = np.random.choice(n_friends,n_lines,replace=False)"
   ]
  },
  {
   "cell_type": "code",
   "execution_count": null,
   "metadata": {},
   "outputs": [],
   "source": [
    "# x's\n",
    "x = np.linspace(-6,6,200)\n",
    "\n",
    "# define figure\n",
    "fig = plt.figure(figsize=(12,8))\n",
    "\n",
    "# plot random walkers\n",
    "ax1 = plt.subplot2grid((2, 3), (0, 0), rowspan=1, colspan=3) # define grid with 2 rows and 3 columns\n",
    "plt.plot(pos[idx,:17].T,alpha=0.5,lw=1)\n",
    "\n",
    "xcoords = [4,8,16]\n",
    "for xc in xcoords:\n",
    "    plt.axvline(xc,c='black',alpha=0.5,dashes=(2,1,2,1))\n",
    "\n",
    "plt.title('Walking paths of some of your friends')\n",
    "plt.xticks([0,4,8,16])\n",
    "plt.ylabel('position')\n",
    "\n",
    "# plot PDF at 4 steps\n",
    "ax2 = plt.subplot2grid((2, 3), (1, 0), rowspan=1, colspan=1) # define grid with 2 rowa and 3 columns\n",
    "plt.plot(x,st.norm.pdf(x,loc=0,scale=np.std(pos[:,4])),color='red')\n",
    "sns.kdeplot(pos[:,4],bw=0.075,lw=2)\n",
    "plt.axvline(0,c='black',alpha=0.5,dashes=(2,1,2,1))\n",
    "plt.title('4 steps')\n",
    "plt.xlim(-6,6)\n",
    "plt.ylim(0,0.35)\n",
    "plt.xlabel('position')\n",
    "plt.ylabel('density')\n",
    "\n",
    "# plot PDF at 16 steps\n",
    "ax2 = plt.subplot2grid((2, 3), (1, 1), rowspan=1, colspan=1) # define grid with 2 rowa and 3 columns\n",
    "plt.plot(x,st.norm.pdf(x,loc=0,scale=np.std(pos[:,8])),color='red')\n",
    "sns.kdeplot(pos[:,8],bw=0.075,lw=2)\n",
    "plt.axvline(0,c='black',alpha=0.5,dashes=(2,1,2,1))\n",
    "plt.title('8 steps')\n",
    "plt.xlim(-6,6)\n",
    "plt.ylim(0,0.35)\n",
    "plt.xlabel('position')\n",
    "\n",
    "# plot PDF at 16 steps\n",
    "ax2 = plt.subplot2grid((2, 3), (1, 2), rowspan=1, colspan=1) # define grid with 2 rowa and 3 columns\n",
    "plt.plot(x,st.norm.pdf(x,loc=0,scale=np.std(pos[:,16])),color='red')\n",
    "sns.kdeplot(pos[:,16],bw=0.075,lw=2)\n",
    "plt.axvline(0,c='black',alpha=0.5,dashes=(2,1,2,1))\n",
    "plt.title('16 steps')\n",
    "plt.xlim(-6,6)\n",
    "plt.ylim(0,0.35)\n",
    "plt.xlabel('position')\n",
    "\n",
    "plt.savefig('random_walkers.jpg',dpi=300);"
   ]
  },
  {
   "cell_type": "markdown",
   "metadata": {},
   "source": [
    "## some binomials"
   ]
  },
  {
   "cell_type": "code",
   "execution_count": null,
   "metadata": {},
   "outputs": [],
   "source": [
    "# define figure\n",
    "fig = plt.figure(figsize=(16,4))\n",
    "\n",
    "# plot the pmf\n",
    "ax1 = plt.subplot2grid((1,3), (0, 1), rowspan=1, colspan=1)\n",
    "n = 10\n",
    "x = np.linspace(1,n,n,dtype=int)\n",
    "p = 0.5\n",
    "\n",
    "plt.plot(x, st.binom.pmf(x,p=p,n=n), 'bo', ms=8, label='binom pmf')\n",
    "plt.vlines(x, 0, st.binom.pmf(x,p=p,n=n), colors='b', lw=4, alpha=0.5)\n",
    "plt.title('PMF for Binomial, 10 trials, p = 0.5')\n",
    "plt.xlabel('Number of successes')\n",
    "plt.xticks(x)\n",
    "plt.ylabel('PMF');\n",
    "\n",
    "\n",
    "# plot the pmf\n",
    "ax2 = plt.subplot2grid((1,3), (0, 0), rowspan=1, colspan=1)\n",
    "n = 10\n",
    "x = np.linspace(1,n,n,dtype=int)\n",
    "p = 0.25\n",
    "\n",
    "plt.plot(x, st.binom.pmf(x,p=p,n=n), 'bo', ms=8, label='binom pmf')\n",
    "plt.vlines(x, 0, st.binom.pmf(x,p=p,n=n), colors='b', lw=4, alpha=0.5)\n",
    "plt.title('PMF for Binomial, 10 trials, p = 0.25')\n",
    "plt.xlabel('Number of successes')\n",
    "plt.xticks(x)\n",
    "plt.ylabel('PMF');\n",
    "\n",
    "\n",
    "# plot the pmf\n",
    "ax3 = plt.subplot2grid((1,3), (0, 2), rowspan=1, colspan=1)\n",
    "n = 10\n",
    "x = np.linspace(1,n,n,dtype=int)\n",
    "p = 0.75\n",
    "\n",
    "plt.plot(x, st.binom.pmf(x,p=p,n=n), 'bo', ms=8, label='binom pmf')\n",
    "plt.vlines(x, 0, st.binom.pmf(x,p=p,n=n), colors='b', lw=4, alpha=0.5)\n",
    "plt.title('PMF for Binomial, 10 trials, p = 0.75')\n",
    "plt.xlabel('Number of successes')\n",
    "plt.xticks(x)\n",
    "plt.ylabel('PMF');\n",
    "\n",
    "plt.savefig('binomial_pmfs.jpg',dpi=300);\n"
   ]
  },
  {
   "cell_type": "code",
   "execution_count": null,
   "metadata": {},
   "outputs": [],
   "source": [
    "# plot PMF and CDF side-by-side\n",
    "# define figure\n",
    "fig = plt.figure(figsize=(18,6))\n",
    "\n",
    "# plot PMF\n",
    "ax1 = plt.subplot2grid((1,2), (0, 0), rowspan=1, colspan=1)\n",
    "n = 10\n",
    "x = np.linspace(1,n,n,dtype=int)\n",
    "p = 0.5\n",
    "\n",
    "plt.plot(x, st.binom.pmf(x,p=p,n=n), 'bo', ms=8, label='binom pmf')\n",
    "plt.vlines(x, 0, st.binom.pmf(x,p=p,n=n), colors='b', lw=4, alpha=0.5)\n",
    "plt.title('PMF for Binomial, 10 trials, p = 0.5')\n",
    "plt.xlabel('Number of successes')\n",
    "plt.xticks(x)\n",
    "plt.ylabel('PMF');\n",
    "\n",
    "# plot CDF\n",
    "ax2 = plt.subplot2grid((1, 2), (0, 1), rowspan=1, colspan=1) # define grid with 1 row and 2 columns, plot on the right\n",
    "plt.hlines(st.binom.cdf(x,p=p,n=n)[:-1],x[:-1],x[1:],colors='black', lw=4) # horizontal portions\n",
    "plt.vlines(x[1:], st.binom.cdf(x,p=p,n=n)[:-1], st.binom.cdf(x,p=p,n=n)[1:], colors='black', lw=4, linestyle='dashed') # vertical portions\n",
    "plt.plot(x,st.binom.cdf(x,p=p,n=n),'o',color='black',markersize=8) # left marker\n",
    "plt.plot(x[1:],st.binom.cdf(x,p=p,n=n)[:-1],'o',color='black',markerfacecolor='white',markersize=8) # right marker\n",
    "plt.title('CDF for Binomial, 10 trials, p = 0.5')\n",
    "plt.xticks(x)\n",
    "plt.xlabel('Number of successes')\n",
    "plt.ylabel('CDF');\n",
    "\n",
    "plt.savefig('binomial_pmf_cdf.jpg',dpi=300);"
   ]
  },
  {
   "cell_type": "code",
   "execution_count": null,
   "metadata": {},
   "outputs": [],
   "source": [
    "# define figure\n",
    "fig = plt.figure(figsize=(16,4))\n",
    "\n",
    "# plot the pmf\n",
    "ax1 = plt.subplot2grid((1,3), (0, 1), rowspan=1, colspan=1)\n",
    "n = 10\n",
    "x = np.linspace(1,n,n,dtype=int)\n",
    "p = 0.5\n",
    "\n",
    "plt.plot(x, st.binom.pmf(x,p=p,n=n), 'bo', ms=8, label='binom pmf')\n",
    "plt.vlines(x, 0, st.binom.pmf(x,p=p,n=n), colors='b', lw=4, alpha=0.5)\n",
    "plt.title('PMF for Binomial, 10 trials, p = 0.5')\n",
    "plt.xlabel('Number of successes')\n",
    "plt.xticks(x)\n",
    "plt.ylabel('PMF');\n",
    "\n",
    "\n",
    "# plot the pmf\n",
    "ax2 = plt.subplot2grid((1,3), (0, 0), rowspan=1, colspan=1)\n",
    "n = 10\n",
    "x = np.linspace(1,n,n,dtype=int)\n",
    "p = 0.25\n",
    "\n",
    "plt.plot(x, st.binom.pmf(x,p=p,n=n), 'bo', ms=8, label='binom pmf')\n",
    "plt.vlines(x, 0, st.binom.pmf(x,p=p,n=n), colors='b', lw=4, alpha=0.5)\n",
    "plt.title('PMF for Binomial, 10 trials, p = 0.25')\n",
    "plt.xlabel('Number of successes')\n",
    "plt.xticks(x)\n",
    "plt.ylabel('PMF');\n",
    "\n",
    "\n",
    "# plot the pmf\n",
    "ax3 = plt.subplot2grid((1,3), (0, 2), rowspan=1, colspan=1)\n",
    "n = 10\n",
    "x = np.linspace(1,n,n,dtype=int)\n",
    "p = 0.75\n",
    "\n",
    "plt.plot(x, st.binom.pmf(x,p=p,n=n), 'bo', ms=8, label='binom pmf')\n",
    "plt.vlines(x, 0, st.binom.pmf(x,p=p,n=n), colors='b', lw=4, alpha=0.5)\n",
    "plt.title('PMF for Binomial, 10 trials, p = 0.75')\n",
    "plt.xlabel('Number of successes')\n",
    "plt.xticks(x)\n",
    "plt.ylabel('PMF');\n",
    "\n",
    "plt.savefig('binomial_pmfs.jpg',dpi=300);"
   ]
  },
  {
   "cell_type": "markdown",
   "metadata": {},
   "source": [
    "## poisson pmf & cdf\n",
    "\n",
    "The Poisson distribution is a discrete probability distribution that expresses the probability of a given number of events occurring in a fixed interval of time or space if these events occur with a known constant rate and independently of the time since the last event."
   ]
  },
  {
   "cell_type": "code",
   "execution_count": null,
   "metadata": {},
   "outputs": [],
   "source": [
    "# max number of events to plot\n",
    "n = 10\n",
    "\n",
    "# mean number of events\n",
    "p = 1.5\n",
    "\n",
    "# sample space\n",
    "x = np.linspace(0,n,n+1,dtype=int)\n",
    "\n",
    "# probability mass function\n",
    "np.round(st.poisson.pmf(x, p),3)"
   ]
  },
  {
   "cell_type": "code",
   "execution_count": null,
   "metadata": {},
   "outputs": [],
   "source": [
    "# plot PMF and CDF side-by-side\n",
    "# define figure\n",
    "fig = plt.figure(figsize=(12,4))\n",
    "\n",
    "# plot PMF\n",
    "ax1 = plt.subplot2grid((1, 2), (0, 0), rowspan=1, colspan=1) # define grid with 1 row and 2 columns, plot on the left\n",
    "plt.plot(x, st.poisson.pmf(x,p), 'bo', ms=8, label='binom pmf')\n",
    "plt.vlines(x, 0, st.poisson.pmf(x,p), colors='b', lw=4, alpha=0.5)\n",
    "plt.title('PMF for Poisson with $\\lambda$ = '+str(p))\n",
    "plt.xlabel('Asthma mortality rate')\n",
    "plt.xticks(x)\n",
    "plt.ylabel('PMF');\n",
    "\n",
    "# plot CDF\n",
    "ax2 = plt.subplot2grid((1, 2), (0, 1), rowspan=1, colspan=1) # define grid with 1 row and 2 columns, plot on the right\n",
    "plt.hlines(st.poisson.cdf(x,p)[:-1],x[:-1],x[1:],colors='black', lw=4) # horizontal portions\n",
    "plt.vlines(x[1:], st.poisson.cdf(x,p)[:-1], st.poisson.cdf(x,p)[1:], colors='black', lw=4, linestyle='dashed') # vertical portions\n",
    "plt.plot(x,st.poisson.cdf(x,p),'o',color='black',markersize=8) # left marker\n",
    "plt.plot(x[1:],st.poisson.cdf(x,p)[:-1],'o',color='black',markerfacecolor='white',markersize=8) # right marker\n",
    "plt.title('CDF for Poisson with $\\lambda$ = '+str(p))\n",
    "plt.xticks(x)\n",
    "plt.xlabel('Asthma mortalility rate')\n",
    "plt.ylabel('CDF');\n",
    "\n",
    "plt.savefig('poisson_pfm_cdf.jpg',dpi=300);"
   ]
  },
  {
   "cell_type": "code",
   "execution_count": null,
   "metadata": {},
   "outputs": [],
   "source": [
    "sns.distplot(np.random.gamma(shape=3,scale=1/5,size=5000));\n",
    "plt.title('Gamma(3,5) Distribution')\n",
    "plt.xlabel('Asthma mortality rate')\n",
    "plt.savefig('gamma_3_5_pdf.jpg',dpi=300);"
   ]
  },
  {
   "cell_type": "code",
   "execution_count": null,
   "metadata": {},
   "outputs": [],
   "source": [
    "sns.distplot(np.random.gamma(shape=6,scale=1/7,size=5000),label='posterior');\n",
    "sns.distplot(np.random.gamma(shape=3,scale=1/5,size=5000),label='prior');\n",
    "plt.title('Posterior and Prior Distributions')\n",
    "plt.xlabel('Asthma mortality rate')\n",
    "plt.legend()\n",
    "plt.savefig('asthma_posterior.jpg',dpi=300);"
   ]
  },
  {
   "cell_type": "code",
   "execution_count": null,
   "metadata": {},
   "outputs": [],
   "source": []
  }
 ],
 "metadata": {
  "kernelspec": {
   "display_name": "Python 3",
   "language": "python",
   "name": "python3"
  },
  "language_info": {
   "codemirror_mode": {
    "name": "ipython",
    "version": 3
   },
   "file_extension": ".py",
   "mimetype": "text/x-python",
   "name": "python",
   "nbconvert_exporter": "python",
   "pygments_lexer": "ipython3",
   "version": "3.7.3"
  }
 },
 "nbformat": 4,
 "nbformat_minor": 2
}
