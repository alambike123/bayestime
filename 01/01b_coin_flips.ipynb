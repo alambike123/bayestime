{
 "cells": [
  {
   "cell_type": "markdown",
   "metadata": {},
   "source": [
    "# Week 1 lab: Coin flips\n",
    "\n",
    "## Goals\n",
    "\n",
    "* see how the posterior distribution compares with your intuition for a really simple problem\n",
    "* get a first glance at Stan- we'll talk in a lot more detail about how it works next week\n",
    "\n",
    "## The plan\n",
    "\n",
    "We'll start with the boring trivial problem of a (possibly weighted) coin. What we want to know is the probability of a heads, $\\theta$, but we only measure 0 (tails) or 1 (heads).\n",
    "\n",
    "* Before you've flipped the coin at all- what values are plausible? \n",
    "* Formally represent your prior beliefs as a probability distribution.\n",
    "* Use a Stan model to draw samples from the posterior for different results of a coin flip experiment- does the posterior distribution match your intuition?"
   ]
  },
  {
   "cell_type": "code",
   "execution_count": 1,
   "metadata": {},
   "outputs": [],
   "source": [
    "import numpy as np\n",
    "import matplotlib.pyplot as plt\n",
    "import pystan\n",
    "\n",
    "%matplotlib inline"
   ]
  },
  {
   "cell_type": "markdown",
   "metadata": {},
   "source": [
    "## Prior\n",
    "\n",
    "The beta distribution is a natural choice for modeling $\\theta$; it generates a continuous probability distribution that's bounded between 0 and 1. Beta has two parameters (`a` and `b`, below); try different values to see how you can tune the prior to different expectations you may have about the system:\n",
    "\n",
    "* (a=1, b=1) uniform distribution\n",
    "* (a=1/2, b=1/2) Jeffreys' prior\n",
    "* (a=2, b=2) prior biased toward $\\theta=0.5$\n",
    "* (a=20, b=5) prior heavily biased toward $\\theta=0.8$"
   ]
  },
  {
   "cell_type": "code",
   "execution_count": 19,
   "metadata": {},
   "outputs": [
    {
     "data": {
      "image/png": "[encoded data removed]",
      "text/plain": [
       "<Figure size 432x288 with 1 Axes>"
      ]
     },
     "metadata": {
      "needs_background": "light"
     },
     "output_type": "display_data"
    }
   ],
   "source": [
    "a = 1\n",
    "b = 1\n",
    "_ = plt.hist(np.random.beta(a,b, size=10000), \n",
    "             bins=np.linspace(0,1,50))\n",
    "plt.xlabel(\"$\\\\theta$\", fontsize=14)\n",
    "plt.title(\"samples from prior\", fontsize=14);"
   ]
  },
  {
   "cell_type": "markdown",
   "metadata": {},
   "source": [
    "## Building a model with `pystan`\n",
    "\n",
    "* define a model in Stan's syntax as a string\n",
    "* compile with `pystan` into a model object\n",
    "* run inference on a dictionary of data (in this case, coin flips) by calling `model.fit()`\n",
    "* pull samples from the `fit` object using `fit.extract()[\"theta\"]`; these are samples from the posterior $P(\\theta|data)$."
   ]
  },
  {
   "cell_type": "markdown",
   "metadata": {},
   "source": [
    "### Define the model\n",
    "\n",
    "Prior:\n",
    "\n",
    "$\\theta \\sim beta(a,b)$\n",
    "\n",
    "Likelihood:\n",
    "\n",
    "$y \\sim Bernoulli(\\theta)$"
   ]
  },
  {
   "cell_type": "code",
   "execution_count": 5,
   "metadata": {},
   "outputs": [],
   "source": [
    "model_code = \"\"\"\n",
    "data {\n",
    "    int<lower=0> N;\n",
    "    int<lower=0,upper=1> y[N];\n",
    "}\n",
    "parameters {\n",
    "    real<lower=0,upper=1> theta;\n",
    "}\n",
    "model {\n",
    "    theta ~ beta(1, 1); // SPECIFY YOUR PRIOR HYPERPARAMETERS HERE\n",
    "    for (n in 1:N)\n",
    "        y[n] ~ bernoulli(theta);\n",
    "}\n",
    "\"\"\""
   ]
  },
  {
   "cell_type": "markdown",
   "metadata": {},
   "source": [
    "Now compile this into a model. It may take a minute or two:"
   ]
  },
  {
   "cell_type": "code",
   "execution_count": 6,
   "metadata": {},
   "outputs": [
    {
     "name": "stderr",
     "output_type": "stream",
     "text": [
      "INFO:pystan:COMPILING THE C++ CODE FOR MODEL anon_model_a8c4a9bc1c4fc87293413fceedc8fa9d NOW.\n"
     ]
    }
   ],
   "source": [
    "model = pystan.StanModel(model_code=model_code)"
   ]
  },
  {
   "cell_type": "markdown",
   "metadata": {},
   "source": [
    "### Data\n",
    "\n",
    "For this thought experiment we'll just make up data. The data gets stored in a dictionary with an entry for each variable:\n",
    "\n",
    "* `N` the number of samples\n",
    "* `y` a list of sample values, each 0 or 1.\n",
    "\n",
    "Different cases to try:\n",
    "```\n",
    "data = {\"N\":1, \"y\":[0]} # 1 sample, tails\n",
    "data = {\"N\":10, \"y\":[0,1,0,1,0,1,0,1,0,1]} # 5 heads 5 tails\n",
    "data = {\"N\":5, \"y\":[1,1,1,1,1]} # 5 heads in a row\n",
    "```"
   ]
  },
  {
   "cell_type": "code",
   "execution_count": 10,
   "metadata": {},
   "outputs": [],
   "source": [
    "data = {\"N\":1, \"y\":[0]}"
   ]
  },
  {
   "cell_type": "markdown",
   "metadata": {},
   "source": [
    "### Sampling\n",
    "\n",
    "Remember that our goal in Bayesian inference is to compute a posterior distribution\n",
    "\n",
    "$P(\\theta|x) = \\frac{P(x|\\theta)P(\\theta)}{P(x)}$\n",
    "\n",
    "For a Beta-Bernoulli model we could compute this directly- but for more interesting models the $P(x)$ will be hard (impossible) to solve. So instead we'll use a technique called **Markov chain Monte Carlo** to samples from $P(\\theta|x)$ without computing it directly; we can use these samples to estimate whatever values we need to compute."
   ]
  },
  {
   "cell_type": "code",
   "execution_count": 13,
   "metadata": {},
   "outputs": [],
   "source": [
    "fit = model.sampling(data=data, iter=10000, chains=4)"
   ]
  },
  {
   "cell_type": "markdown",
   "metadata": {},
   "source": [
    "Calling `fit.extract()[\"theta\"]` will give an array of samples; since this is a one-dimensional problem we can just visualize it with a histogram:"
   ]
  },
  {
   "cell_type": "code",
   "execution_count": 21,
   "metadata": {},
   "outputs": [
    {
     "data": {
      "image/png": "[encoded data removed]",
      "text/plain": [
       "<Figure size 432x288 with 1 Axes>"
      ]
     },
     "metadata": {
      "needs_background": "light"
     },
     "output_type": "display_data"
    }
   ],
   "source": [
    "samples = fit.extract()[\"theta\"]\n",
    "_ = plt.hist(samples, bins=np.linspace(0,1,50))\n",
    "plt.xlabel(\"$\\\\theta$\", fontsize=14)\n",
    "plt.title(\"samples from posterior\", fontsize=14);"
   ]
  },
  {
   "cell_type": "code",
   "execution_count": 20,
   "metadata": {},
   "outputs": [],
   "source": []
  },
  {
   "cell_type": "code",
   "execution_count": null,
   "metadata": {},
   "outputs": [],
   "source": []
  }
 ],
 "metadata": {
  "kernelspec": {
   "display_name": "Python 3",
   "language": "python",
   "name": "python3"
  },
  "language_info": {
   "codemirror_mode": {
    "name": "ipython",
    "version": 3
   },
   "file_extension": ".py",
   "mimetype": "text/x-python",
   "name": "python",
   "nbconvert_exporter": "python",
   "pygments_lexer": "ipython3",
   "version": "3.6.9"
  }
 },
 "nbformat": 4,
 "nbformat_minor": 2
}
