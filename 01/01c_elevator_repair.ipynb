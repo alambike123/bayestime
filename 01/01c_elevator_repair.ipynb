{
 "cells": [
  {
   "cell_type": "markdown",
   "metadata": {},
   "source": [
    "# Week 1 lab: Coin flips\n",
    "\n",
    "## Goals\n",
    "\n",
    "* Build a simple model based on synthetic count data: number of elevator failures per year in a building\n",
    "* Run inference in the model, and make decisions using posterior predictions\n",
    "\n",
    "## The plan\n",
    "\n",
    "* load synthetic data: number of elevator failures per year for your building and three nearby buildings\n",
    "* model data as a Poisson-distributed variable, using a Gamma distribution as a prior over the Poisson intensity\n",
    "* use posterior predictions about your model to ___"
   ]
  },
  {
   "cell_type": "code",
   "execution_count": 1,
   "metadata": {},
   "outputs": [],
   "source": [
    "import numpy as np\n",
    "import matplotlib.pyplot as plt\n",
    "import pandas as pd\n",
    "import pystan\n",
    "\n",
    "%matplotlib inline"
   ]
  },
  {
   "cell_type": "markdown",
   "metadata": {},
   "source": [
    "### Load the data"
   ]
  },
  {
   "cell_type": "code",
   "execution_count": 2,
   "metadata": {},
   "outputs": [
    {
     "data": {
      "text/html": [
       "<div>\n",
       "<style scoped>\n",
       "    .dataframe tbody tr th:only-of-type {\n",
       "        vertical-align: middle;\n",
       "    }\n",
       "\n",
       "    .dataframe tbody tr th {\n",
       "        vertical-align: top;\n",
       "    }\n",
       "\n",
       "    .dataframe thead th {\n",
       "        text-align: right;\n",
       "    }\n",
       "</style>\n",
       "<table border=\"1\" class=\"dataframe\">\n",
       "  <thead>\n",
       "    <tr style=\"text-align: right;\">\n",
       "      <th></th>\n",
       "      <th>you</th>\n",
       "      <th>friend1</th>\n",
       "      <th>friend2</th>\n",
       "      <th>friend3</th>\n",
       "    </tr>\n",
       "  </thead>\n",
       "  <tbody>\n",
       "    <tr>\n",
       "      <td>0</td>\n",
       "      <td>2</td>\n",
       "      <td>6</td>\n",
       "      <td>4</td>\n",
       "      <td>2</td>\n",
       "    </tr>\n",
       "    <tr>\n",
       "      <td>1</td>\n",
       "      <td>2</td>\n",
       "      <td>1</td>\n",
       "      <td>2</td>\n",
       "      <td>3</td>\n",
       "    </tr>\n",
       "    <tr>\n",
       "      <td>2</td>\n",
       "      <td>3</td>\n",
       "      <td>4</td>\n",
       "      <td>2</td>\n",
       "      <td>0</td>\n",
       "    </tr>\n",
       "    <tr>\n",
       "      <td>3</td>\n",
       "      <td>4</td>\n",
       "      <td>4</td>\n",
       "      <td>4</td>\n",
       "      <td>2</td>\n",
       "    </tr>\n",
       "    <tr>\n",
       "      <td>4</td>\n",
       "      <td>4</td>\n",
       "      <td>5</td>\n",
       "      <td>3</td>\n",
       "      <td>3</td>\n",
       "    </tr>\n",
       "  </tbody>\n",
       "</table>\n",
       "</div>"
      ],
      "text/plain": [
       "   you  friend1  friend2  friend3\n",
       "0    2        6        4        2\n",
       "1    2        1        2        3\n",
       "2    3        4        2        0\n",
       "3    4        4        4        2\n",
       "4    4        5        3        3"
      ]
     },
     "execution_count": 2,
     "metadata": {},
     "output_type": "execute_result"
    }
   ],
   "source": [
    "failures = pd.read_csv(\"elevator_failures.csv\")\n",
    "failures"
   ]
  },
  {
   "cell_type": "code",
   "execution_count": null,
   "metadata": {},
   "outputs": [],
   "source": []
  },
  {
   "cell_type": "code",
   "execution_count": null,
   "metadata": {},
   "outputs": [],
   "source": []
  },
  {
   "cell_type": "markdown",
   "metadata": {},
   "source": [
    "## Build the model\n",
    "\n",
    "Let's assume that the elevator failures happen at a constant probability per time of happening and are uncorrelated with each other- so they'll be described reasonbly well by a homogeneous Poisson process.\n",
    "\n",
    "The Poisson likelihood has one parameter ($\\lambda$) that is equal to both the mean and the standard deviation of the distribution. $\\lambda$ has to be nonnegative but doesn't have an upper bound, so we'll use a Gamma distribution.\n",
    "\n",
    "Prior:\n",
    "\n",
    "$\\lambda \\sim gamma(a,b)$\n",
    "\n",
    "Likelihood:\n",
    "\n",
    "$y \\sim Poisson(\\lambda)$\n",
    "\n",
    "**Note:** numpy uses (`shape`, `scale`) to parameterize Gamma distribution; stan uses (`alpha`, `beta`) where `alpha=shape` and `beta=1/scale`. Example samples from a Gamma distribution:"
   ]
  },
  {
   "cell_type": "code",
   "execution_count": 3,
   "metadata": {},
   "outputs": [
    {
     "data": {
      "image/png": "[encoded data removed]",
      "text/plain": [
       "<Figure size 432x288 with 1 Axes>"
      ]
     },
     "metadata": {
      "needs_background": "light"
     },
     "output_type": "display_data"
    }
   ],
   "source": [
    "a = 2\n",
    "b = 2\n",
    "prior_samples = np.random.gamma(a,b, size=1000)\n",
    "_ = plt.hist(prior_samples, bins=100);"
   ]
  },
  {
   "cell_type": "markdown",
   "metadata": {},
   "source": [
    "Now build the stan model:"
   ]
  },
  {
   "cell_type": "code",
   "execution_count": 4,
   "metadata": {},
   "outputs": [],
   "source": [
    "model_code = \"\"\"\n",
    "data {\n",
    "    int<lower=0> N;\n",
    "    int<lower=0> y[N];\n",
    "}\n",
    "parameters {\n",
    "    real<lower=0> lam;\n",
    "}\n",
    "model {\n",
    "    lam ~ gamma(2,0.5); // SPECIFY YOUR PRIOR HYPERPARAMETERS HERE\n",
    "    for (n in 1:N)\n",
    "        y[n] ~ poisson(lam);\n",
    "}\n",
    "\"\"\""
   ]
  },
  {
   "cell_type": "code",
   "execution_count": 5,
   "metadata": {},
   "outputs": [
    {
     "name": "stderr",
     "output_type": "stream",
     "text": [
      "INFO:pystan:COMPILING THE C++ CODE FOR MODEL anon_model_49080d2d7f9bac17465d8825fc321c13 NOW.\n"
     ]
    },
    {
     "name": "stdout",
     "output_type": "stream",
     "text": [
      "CPU times: user 1.52 s, sys: 99.7 ms, total: 1.62 s\n",
      "Wall time: 53.5 s\n"
     ]
    }
   ],
   "source": [
    "%%time\n",
    "model = pystan.StanModel(model_code=model_code)"
   ]
  },
  {
   "cell_type": "markdown",
   "metadata": {},
   "source": [
    "## Draw samples from the posterior\n",
    "\n",
    "Run inference on the data from your building."
   ]
  },
  {
   "cell_type": "code",
   "execution_count": 6,
   "metadata": {},
   "outputs": [],
   "source": [
    "data = {\"y\":failures[\"you\"], \"N\":len(failures)}"
   ]
  },
  {
   "cell_type": "code",
   "execution_count": 7,
   "metadata": {},
   "outputs": [],
   "source": [
    "fit = model.sampling(data=data, iter=10000, chains=4)"
   ]
  },
  {
   "cell_type": "code",
   "execution_count": 8,
   "metadata": {},
   "outputs": [
    {
     "data": {
      "text/plain": [
       "Inference for Stan model: anon_model_49080d2d7f9bac17465d8825fc321c13.\n",
       "4 chains, each with iter=10000; warmup=5000; thin=1; \n",
       "post-warmup draws per chain=5000, total post-warmup draws=20000.\n",
       "\n",
       "       mean se_mean     sd   2.5%    25%    50%    75%  97.5%  n_eff   Rhat\n",
       "lam    3.09  8.9e-3   0.75   1.79   2.56   3.02   3.56   4.71   7036    1.0\n",
       "lp__   1.68  8.8e-3   0.72  -0.38   1.51   1.95   2.13   2.18   6664    1.0\n",
       "\n",
       "Samples were drawn using NUTS at Fri Sep 13 23:27:50 2019.\n",
       "For each parameter, n_eff is a crude measure of effective sample size,\n",
       "and Rhat is the potential scale reduction factor on split chains (at \n",
       "convergence, Rhat=1)."
      ]
     },
     "execution_count": 8,
     "metadata": {},
     "output_type": "execute_result"
    }
   ],
   "source": [
    "fit"
   ]
  },
  {
   "cell_type": "code",
   "execution_count": 9,
   "metadata": {},
   "outputs": [
    {
     "data": {
      "text/plain": [
       "(20000,)"
      ]
     },
     "execution_count": 9,
     "metadata": {},
     "output_type": "execute_result"
    }
   ],
   "source": [
    "posterior_samples = fit.extract()[\"lam\"]\n",
    "posterior_samples.shape"
   ]
  },
  {
   "cell_type": "code",
   "execution_count": 10,
   "metadata": {},
   "outputs": [
    {
     "data": {
      "image/png": "[encoded data removed]",
      "text/plain": [
       "<Figure size 432x288 with 1 Axes>"
      ]
     },
     "metadata": {
      "needs_background": "light"
     },
     "output_type": "display_data"
    }
   ],
   "source": [
    "_ = plt.hist(prior_samples, bins=100, density=True, alpha=0.5, label=\"prior\")\n",
    "_ = plt.hist(posterior_samples, bins=100, density=True, alpha=0.5, label=\"posterior\")\n",
    "plt.legend(loc=\"upper right\");"
   ]
  },
  {
   "cell_type": "markdown",
   "metadata": {},
   "source": [
    "## Find the mean and 90% credible interval of the average number of failures per year"
   ]
  },
  {
   "cell_type": "code",
   "execution_count": 11,
   "metadata": {},
   "outputs": [
    {
     "data": {
      "text/plain": [
       "3.086788067770828"
      ]
     },
     "execution_count": 11,
     "metadata": {},
     "output_type": "execute_result"
    }
   ],
   "source": [
    "posterior_samples.mean()"
   ]
  },
  {
   "cell_type": "code",
   "execution_count": 12,
   "metadata": {},
   "outputs": [
    {
     "name": "stdout",
     "output_type": "stream",
     "text": [
      "95 percent: 4.413404299904865\n",
      "5 percent: 1.970324825588817\n"
     ]
    }
   ],
   "source": [
    "print(\"95 percent: %s\"%np.quantile(posterior_samples, 0.95))\n",
    "print(\"5 percent: %s\"%np.quantile(posterior_samples, 0.05))"
   ]
  },
  {
   "cell_type": "code",
   "execution_count": null,
   "metadata": {},
   "outputs": [],
   "source": []
  },
  {
   "cell_type": "code",
   "execution_count": null,
   "metadata": {},
   "outputs": [],
   "source": []
  },
  {
   "cell_type": "markdown",
   "metadata": {},
   "source": [
    "## Challenge: use your model to make an actual decision\n",
    "\n",
    "Let's say that the elevator company sells service contracts for repairing broken elevators:\n",
    "\n",
    "* You can prepay for $N$ service visits per year, at a cost of $N \\times $ \\$1000 (whether or not you use them all)\n",
    "* Non-prepaid service visits cost \\$1500\n",
    "\n",
    "**Use your model to predict the value of $N$ that will minimize expected cost**"
   ]
  },
  {
   "cell_type": "markdown",
   "metadata": {},
   "source": [
    "Suggested approach: write a function that inputs the number of prepaid visits and the number of failures for a given year, and outputs the total cost."
   ]
  },
  {
   "cell_type": "code",
   "execution_count": 13,
   "metadata": {},
   "outputs": [],
   "source": [
    "def cost_function(num_failures, n):\n",
    "    # REMOVE CODE FOR LAB\n",
    "    if num_failures <= n:\n",
    "        return n*1000\n",
    "    else:\n",
    "        return n*1000 + (num_failures-n)*1500"
   ]
  },
  {
   "cell_type": "code",
   "execution_count": 14,
   "metadata": {},
   "outputs": [],
   "source": [
    "def cost_function_returns_correct_values():\n",
    "    # unit test for cost_function()\n",
    "    assert cost_function(0,1) == 1000\n",
    "    assert cost_function(1,1) == 1000\n",
    "    assert cost_function(3,2) == 3500\n",
    "    \n",
    "cost_function_returns_correct_values()"
   ]
  },
  {
   "cell_type": "markdown",
   "metadata": {},
   "source": [
    "The posterior samples we drew are values of $\\lambda$, but we need actual failure counts for our cost function. For any $\\lambda_{i} \\sim P(\\lambda |x)$, we can draw a failure count $y_{i} \\sim Poisson(\\lambda_{i})$ (that is, sampling from the \"posterior predictive distribution\").\n",
    "\n",
    "We can use these samples with our cost function to estimate the expected cost of different choices for $N$ (you can do this brute-force style with a `for` loop or two; it doesn't have to be pretty)."
   ]
  },
  {
   "cell_type": "code",
   "execution_count": 15,
   "metadata": {},
   "outputs": [],
   "source": [
    "# REMOVE CODE FOR LAB\n",
    "expected_costs = []\n",
    "\n",
    "for i in range(10):\n",
    "    expectation_value = np.mean([cost_function(np.random.poisson(lam),i) for lam in posterior_samples])\n",
    "    expected_costs.append(expectation_value)"
   ]
  },
  {
   "cell_type": "markdown",
   "metadata": {},
   "source": [
    "Then we just look for a minimum in our expected cost:"
   ]
  },
  {
   "cell_type": "code",
   "execution_count": 16,
   "metadata": {},
   "outputs": [
    {
     "data": {
      "image/png": "[encoded data removed]",
      "text/plain": [
       "<Figure size 432x288 with 1 Axes>"
      ]
     },
     "metadata": {
      "needs_background": "light"
     },
     "output_type": "display_data"
    }
   ],
   "source": [
    "plt.plot(expected_costs, \"o-\")\n",
    "plt.xlabel(\"N\", fontsize=14)\n",
    "plt.ylabel(\"expected cost\", fontsize=14);"
   ]
  },
  {
   "cell_type": "code",
   "execution_count": null,
   "metadata": {},
   "outputs": [],
   "source": []
  },
  {
   "cell_type": "code",
   "execution_count": null,
   "metadata": {},
   "outputs": [],
   "source": []
  },
  {
   "cell_type": "markdown",
   "metadata": {},
   "source": [
    "## Challenge: reuse your analysis to answer a harder question\n",
    "\n",
    "Our original dataset contained the historical counts of elevator failures in your building, as well as buildings where three of your friends work. Could you save money if the four of you combined forces with a single shared service plan, or are you better off with four separate plans?"
   ]
  },
  {
   "cell_type": "code",
   "execution_count": 17,
   "metadata": {},
   "outputs": [],
   "source": [
    "# DELETE CODE FOR THIS ENTIRE SECTION FOR LAB"
   ]
  },
  {
   "cell_type": "code",
   "execution_count": 18,
   "metadata": {},
   "outputs": [],
   "source": [
    "min_cost = {\"you\":np.min(expected_costs)}"
   ]
  },
  {
   "cell_type": "code",
   "execution_count": 19,
   "metadata": {},
   "outputs": [],
   "source": [
    "for f in [\"friend1\", \"friend2\", \"friend3\"]:\n",
    "    fit = model.sampling(data={\"y\":failures[f], \"N\":len(failures)}, iter=10000, chains=4)\n",
    "    posterior_samples = fit.extract()[\"lam\"]\n",
    "    expected_costs_f = []\n",
    "\n",
    "    for i in range(10):\n",
    "        expectation_value = np.mean([cost_function(np.random.poisson(lam),i) for lam in posterior_samples])\n",
    "        expected_costs_f.append(expectation_value)\n",
    "        \n",
    "    min_cost[f] = np.min(expected_costs_f)"
   ]
  },
  {
   "cell_type": "code",
   "execution_count": 20,
   "metadata": {},
   "outputs": [
    {
     "data": {
      "text/plain": [
       "{'you': 4038.725, 'friend1': 5098.5, 'friend2': 4023.65, 'friend3': 2974.675}"
      ]
     },
     "execution_count": 20,
     "metadata": {},
     "output_type": "execute_result"
    }
   ],
   "source": [
    "min_cost"
   ]
  },
  {
   "cell_type": "code",
   "execution_count": 21,
   "metadata": {},
   "outputs": [],
   "source": [
    "total_failures = failures.values.sum(axis=1)"
   ]
  },
  {
   "cell_type": "code",
   "execution_count": 22,
   "metadata": {},
   "outputs": [
    {
     "data": {
      "text/plain": [
       "array([14,  8,  9, 14, 15])"
      ]
     },
     "execution_count": 22,
     "metadata": {},
     "output_type": "execute_result"
    }
   ],
   "source": [
    "total_failures"
   ]
  },
  {
   "cell_type": "code",
   "execution_count": 23,
   "metadata": {},
   "outputs": [],
   "source": [
    "fit = model.sampling(data={\"y\":total_failures, \"N\":len(failures)}, iter=10000, chains=4)\n",
    "posterior_samples = fit.extract()[\"lam\"]\n",
    "expected_costs_s = []\n",
    "\n",
    "for i in range(10):\n",
    "    expectation_value = np.mean([cost_function(np.random.poisson(lam),i) for lam in posterior_samples])\n",
    "    expected_costs_s.append(expectation_value)\n",
    "    \n",
    "shared_min_cost = np.min(expected_costs_s)"
   ]
  },
  {
   "cell_type": "code",
   "execution_count": 24,
   "metadata": {},
   "outputs": [],
   "source": [
    "# EXPECTED COST FOR RISK POOLING"
   ]
  },
  {
   "cell_type": "code",
   "execution_count": 25,
   "metadata": {},
   "outputs": [
    {
     "data": {
      "text/plain": [
       "13207.2"
      ]
     },
     "execution_count": 25,
     "metadata": {},
     "output_type": "execute_result"
    }
   ],
   "source": [
    "shared_min_cost"
   ]
  },
  {
   "cell_type": "code",
   "execution_count": 26,
   "metadata": {},
   "outputs": [],
   "source": [
    "# EXPECTED COST FOR INDEPENDENT SERVICE CONTRACTS"
   ]
  },
  {
   "cell_type": "code",
   "execution_count": 27,
   "metadata": {},
   "outputs": [
    {
     "data": {
      "text/plain": [
       "16135.55"
      ]
     },
     "execution_count": 27,
     "metadata": {},
     "output_type": "execute_result"
    }
   ],
   "source": [
    "np.sum(list(min_cost.values()))"
   ]
  },
  {
   "cell_type": "code",
   "execution_count": null,
   "metadata": {},
   "outputs": [],
   "source": []
  },
  {
   "cell_type": "code",
   "execution_count": null,
   "metadata": {},
   "outputs": [],
   "source": []
  },
  {
   "cell_type": "code",
   "execution_count": null,
   "metadata": {},
   "outputs": [],
   "source": []
  },
  {
   "cell_type": "code",
   "execution_count": null,
   "metadata": {},
   "outputs": [],
   "source": []
  }
 ],
 "metadata": {
  "kernelspec": {
   "display_name": "Python 3",
   "language": "python",
   "name": "python3"
  },
  "language_info": {
   "codemirror_mode": {
    "name": "ipython",
    "version": 3
   },
   "file_extension": ".py",
   "mimetype": "text/x-python",
   "name": "python",
   "nbconvert_exporter": "python",
   "pygments_lexer": "ipython3",
   "version": "3.6.9"
  }
 },
 "nbformat": 4,
 "nbformat_minor": 2
}
