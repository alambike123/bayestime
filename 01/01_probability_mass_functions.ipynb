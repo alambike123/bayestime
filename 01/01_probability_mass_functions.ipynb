{
 "cells": [
  {
   "cell_type": "markdown",
   "metadata": {},
   "source": [
    "# Week 1\n",
    "## Examples of distributions of discrete random variables\n",
    "\n",
    "Experiment with the Binomial and Poisson probability mass functions and cumulative distribution functions."
   ]
  },
  {
   "cell_type": "markdown",
   "metadata": {},
   "source": [
    "## load libraries"
   ]
  },
  {
   "cell_type": "code",
   "execution_count": null,
   "metadata": {},
   "outputs": [],
   "source": [
    "# numerical libraries\n",
    "import numpy as np\n",
    "import scipy.stats as st\n",
    "\n",
    "# plotting libraries\n",
    "import matplotlib.pyplot as plt\n",
    "%pylab inline"
   ]
  },
  {
   "cell_type": "markdown",
   "metadata": {},
   "source": [
    "## binomial pmf\n",
    "\n",
    "The binomial distribution with parameters n and p is the discrete probability distribution of the number of successes in a sequence of n independent experiments, each asking a yes–no question, and each with its own boolean-valued outcome: success/yes (with probability p) or failure/no (with probability q = 1 − p)."
   ]
  },
  {
   "cell_type": "code",
   "execution_count": null,
   "metadata": {},
   "outputs": [],
   "source": [
    "# set number of experiments\n",
    "n = 4\n",
    "\n",
    "# set probability of success\n",
    "p = 1/2\n",
    "\n",
    "# sample space\n",
    "x = np.linspace(0,n,n+1,dtype=int)\n",
    "\n",
    "# probability mass function\n",
    "np.round(st.binom.pmf(x, n, p),3)"
   ]
  },
  {
   "cell_type": "code",
   "execution_count": null,
   "metadata": {},
   "outputs": [],
   "source": [
    "np.round(st.binom.cdf(x, n, p),3)"
   ]
  },
  {
   "cell_type": "code",
   "execution_count": null,
   "metadata": {},
   "outputs": [],
   "source": [
    "# plot the pmf\n",
    "plt.plot(x, st.binom.pmf(x, n, p), 'bo', ms=8, label='binom pmf')\n",
    "plt.vlines(x, 0, st.binom.pmf(x, n, p), colors='b', lw=4, alpha=0.5)\n",
    "plt.title('PMF for Binomial with (n, p) = ('+str(int(n))+', '+str(p)+')')\n",
    "plt.xlabel('Number of successes in '+str(int(n))+' trials')\n",
    "plt.xticks(x)\n",
    "plt.ylabel('PMF')"
   ]
  },
  {
   "cell_type": "code",
   "execution_count": null,
   "metadata": {},
   "outputs": [],
   "source": [
    "# now plot the CDF\n",
    "plt.hlines(st.binom.cdf(x, n, p)[:-1],x[:-1],x[1:],colors='black', lw=4) # horizontal portions\n",
    "plt.vlines(x[1:], st.binom.cdf(x, n, p)[:-1], st.binom.cdf(x, n, p)[1:], colors='black', lw=4, linestyle='dashed') # vertical portions\n",
    "plt.plot(x,st.binom.cdf(x, n, p),'o',color='black',markersize=8) # left marker\n",
    "plt.plot(x[1:],st.binom.cdf(x, n, p)[:-1],'o',color='black',markerfacecolor='white',markersize=8) # right marker\n",
    "plt.title('CDF for Binomial with (n, p) = ('+str(int(n))+', '+str(p)+')')\n",
    "plt.xticks(x)\n",
    "plt.xlabel('Number of successes in '+str(int(n))+' trials')\n",
    "plt.ylabel('CDF')"
   ]
  },
  {
   "cell_type": "code",
   "execution_count": null,
   "metadata": {},
   "outputs": [],
   "source": [
    "# plot PMF and CDF side-by-side\n",
    "# define figure\n",
    "fig = plt.figure(figsize=(12,4))\n",
    "\n",
    "# plot PMF\n",
    "ax1 = plt.subplot2grid((1, 2), (0, 0), rowspan=1, colspan=1) # define grid with 1 row and 2 columns, plot on the left\n",
    "plt.plot(x, st.binom.pmf(x, n, p), 'bo', ms=8)\n",
    "plt.vlines(x, 0, st.binom.pmf(x, n, p), colors='b', lw=3, alpha=0.5)\n",
    "plt.title('PMF for Binomial with (n, p) = ('+str(int(n))+', '+str(p)+')')\n",
    "plt.xlabel('Number of successes in '+str(int(n))+' trials')\n",
    "plt.xticks(x)\n",
    "plt.ylabel('PMF')\n",
    "\n",
    "# plot CDF\n",
    "ax2 = plt.subplot2grid((1, 2), (0, 1), rowspan=1, colspan=1) # define grid with 1 row and 2 columns, plot on the right\n",
    "plt.hlines(st.binom.cdf(x, n, p)[:-1],x[:-1],x[1:],colors='black', lw=3) # horizontal portions\n",
    "plt.vlines(x[1:], st.binom.cdf(x, n, p)[:-1], st.binom.cdf(x, n, p)[1:], colors='black', lw=3, linestyle='dashed') # vertical portions\n",
    "plt.plot(x,st.binom.cdf(x, n, p),'o',color='black',markersize=8) # left marker\n",
    "plt.plot(x[1:],st.binom.cdf(x, n, p)[:-1],'o',color='black',markerfacecolor='white',markersize=8) # right marker\n",
    "plt.title('CDF for Binomial with (n, p) = ('+str(int(n))+', '+str(p)+')')\n",
    "plt.xticks(x)\n",
    "plt.xlabel('Number of successes in '+str(int(n))+' trials')\n",
    "plt.ylabel('CDF')"
   ]
  },
  {
   "cell_type": "code",
   "execution_count": null,
   "metadata": {},
   "outputs": [],
   "source": []
  },
  {
   "cell_type": "markdown",
   "metadata": {},
   "source": [
    "## poisson pmf & cdf\n",
    "\n",
    "The Poisson distribution is a discrete probability distribution that expresses the probability of a given number of events occurring in a fixed interval of time or space if these events occur with a known constant rate and independently of the time since the last event."
   ]
  },
  {
   "cell_type": "code",
   "execution_count": null,
   "metadata": {},
   "outputs": [],
   "source": [
    "# max number of events to plot\n",
    "n = 20\n",
    "\n",
    "# mean number of events\n",
    "p = 6\n",
    "\n",
    "# sample space\n",
    "x = np.linspace(0,n,n+1,dtype=int)\n",
    "\n",
    "# probability mass function\n",
    "np.round(st.poisson.pmf(x, p),3)"
   ]
  },
  {
   "cell_type": "code",
   "execution_count": null,
   "metadata": {},
   "outputs": [],
   "source": [
    "# plot the pmf\n",
    "plt.plot(x, st.poisson.pmf(x,p), 'bo', ms=8, label='binom pmf')\n",
    "plt.vlines(x, 0, st.poisson.pmf(x,p), colors='b', lw=4, alpha=0.5)\n",
    "plt.title('PMF for Poisson with $\\lambda$ = '+str(int(p)))\n",
    "plt.xlabel('Number of events')\n",
    "plt.xticks(x)\n",
    "plt.ylabel('PMF')"
   ]
  },
  {
   "cell_type": "code",
   "execution_count": null,
   "metadata": {},
   "outputs": [],
   "source": [
    "# now plot the CDF\n",
    "plt.hlines(st.poisson.cdf(x,p)[:-1],x[:-1],x[1:],colors='black', lw=4) # horizontal portions\n",
    "plt.vlines(x[1:], st.poisson.cdf(x,p)[:-1], st.poisson.cdf(x,p)[1:], colors='black', lw=4, linestyle='dashed') # vertical portions\n",
    "plt.plot(x,st.poisson.cdf(x,p),'o',color='black',markersize=8) # left marker\n",
    "plt.plot(x[1:],st.poisson.cdf(x,p)[:-1],'o',color='black',markerfacecolor='white',markersize=8) # right marker\n",
    "plt.title('CDF for Poisson with $\\lambda$ = '+str(int(p)))\n",
    "plt.xticks(x)\n",
    "plt.xlabel('Number of events')\n",
    "plt.ylabel('CDF')"
   ]
  },
  {
   "cell_type": "code",
   "execution_count": null,
   "metadata": {},
   "outputs": [],
   "source": [
    "# plot PMF and CDF side-by-side\n",
    "# define figure\n",
    "fig = plt.figure(figsize=(12,4))\n",
    "\n",
    "# plot PMF\n",
    "ax1 = plt.subplot2grid((1, 2), (0, 0), rowspan=1, colspan=1) # define grid with 1 row and 2 columns, plot on the left\n",
    "plt.plot(x, st.poisson.pmf(x,p), 'bo', ms=8, label='binom pmf')\n",
    "plt.vlines(x, 0, st.poisson.pmf(x,p), colors='b', lw=4, alpha=0.5)\n",
    "plt.title('PMF for Poisson with $\\lambda$ = '+str(int(p)))\n",
    "plt.xlabel('Number of events')\n",
    "plt.xticks(x)\n",
    "plt.ylabel('PMF')\n",
    "\n",
    "# plot CDF\n",
    "ax2 = plt.subplot2grid((1, 2), (0, 1), rowspan=1, colspan=1) # define grid with 1 row and 2 columns, plot on the right\n",
    "plt.hlines(st.poisson.cdf(x,p)[:-1],x[:-1],x[1:],colors='black', lw=4) # horizontal portions\n",
    "plt.vlines(x[1:], st.poisson.cdf(x,p)[:-1], st.poisson.cdf(x,p)[1:], colors='black', lw=4, linestyle='dashed') # vertical portions\n",
    "plt.plot(x,st.poisson.cdf(x,p),'o',color='black',markersize=8) # left marker\n",
    "plt.plot(x[1:],st.poisson.cdf(x,p)[:-1],'o',color='black',markerfacecolor='white',markersize=8) # right marker\n",
    "plt.title('CDF for Poisson with $\\lambda$ = '+str(int(p)))\n",
    "plt.xticks(x)\n",
    "plt.xlabel('Number of events')\n",
    "plt.ylabel('CDF')"
   ]
  },
  {
   "cell_type": "code",
   "execution_count": null,
   "metadata": {},
   "outputs": [],
   "source": []
  },
  {
   "cell_type": "code",
   "execution_count": null,
   "metadata": {},
   "outputs": [],
   "source": []
  },
  {
   "cell_type": "code",
   "execution_count": null,
   "metadata": {},
   "outputs": [],
   "source": []
  }
 ],
 "metadata": {
  "kernelspec": {
   "display_name": "Python 3",
   "language": "python",
   "name": "python3"
  },
  "language_info": {
   "codemirror_mode": {
    "name": "ipython",
    "version": 3
   },
   "file_extension": ".py",
   "mimetype": "text/x-python",
   "name": "python",
   "nbconvert_exporter": "python",
   "pygments_lexer": "ipython3",
   "version": "3.7.3"
  }
 },
 "nbformat": 4,
 "nbformat_minor": 2
}
