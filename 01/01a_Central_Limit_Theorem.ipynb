{
 "cells": [
  {
   "cell_type": "markdown",
   "metadata": {},
   "source": [
    "# Week 1 lab: Central Limit Theorem\n",
    "\n",
    "## Goal\n",
    "\n",
    "Use a pseudorandom number generator to test out the CLT to see that it works (except where it doesn't)\n",
    "\n",
    "## The plan\n",
    "\n",
    "* Pick a distribution\n",
    "* Write a function that samples from the distribution `x` times and returns the sample mean\n",
    "* Run the functions many times to generate a distribution of sample means- as the sample size gets bigger, does this distribution approach a normal distribution?"
   ]
  },
  {
   "cell_type": "code",
   "execution_count": 1,
   "metadata": {},
   "outputs": [],
   "source": [
    "import numpy as np\n",
    "import matplotlib.pyplot as plt\n",
    "\n",
    "%matplotlib inline"
   ]
  },
  {
   "cell_type": "markdown",
   "metadata": {},
   "source": [
    "Let's compute means of 2, 10, 100, and 1000 samples:"
   ]
  },
  {
   "cell_type": "code",
   "execution_count": 2,
   "metadata": {},
   "outputs": [],
   "source": [
    "Nvals = [2, 10, 100, 1000]"
   ]
  },
  {
   "cell_type": "markdown",
   "metadata": {},
   "source": [
    "In the code below:\n",
    "\n",
    "`sample = lambda x: np.random.binomial(1, p=0.5, size=x).mean()`\n",
    "\n",
    "defines a function that returns a mean of `x` binomial samples. Since the binomial distribution can only return a 0 or 1, then `sample(x=2)` can only take values 0, 0.5, or 1.\n",
    "\n",
    "The `for` loop runs `sample(x)` for each value of `x` and plots a histogram of the sample means:"
   ]
  },
  {
   "cell_type": "code",
   "execution_count": 24,
   "metadata": {},
   "outputs": [
    {
     "data": {
      "image/png": "[encoded data removed]",
      "text/plain": [
       "<Figure size 432x288 with 4 Axes>"
      ]
     },
     "metadata": {
      "needs_background": "light"
     },
     "output_type": "display_data"
    }
   ],
   "source": [
    "sample = lambda x: np.random.binomial(1, p=0.5, size=x).mean()\n",
    "\n",
    "for i in range(4):\n",
    "    N = Nvals[i]\n",
    "    plt.subplot(2,2,i+1)\n",
    "    plt.hist([sample(N) for _ in range(10000)], bins=50)\n",
    "    plt.title(\"%s-sample means\"%N)\n",
    "    plt.axis(\"off\");"
   ]
  },
  {
   "cell_type": "code",
   "execution_count": null,
   "metadata": {},
   "outputs": [],
   "source": []
  },
  {
   "cell_type": "markdown",
   "metadata": {},
   "source": [
    "### What's next?\n",
    "\n",
    "Try some different distributions:\n",
    "\n",
    "Poisson (generally used for models of count data- you'll see it in the next lab)\n",
    "\n",
    "`sample = lambda x: np.random.poisson(2, size=x).mean()`\n",
    "\n",
    "Gamma (very common as a prior distribution for Poisson and Exponential models)\n",
    "\n",
    "`sample = lambda x: np.random.gamma(1,7, size=x).mean()`\n",
    "\n",
    "Cauchy (distribution, among other things, of a ratio of Normally-distributed variables):\n",
    "\n",
    "`sample = lambda x: np.random.standard_cauchy(x).mean()`\n",
    "\n",
    "\n",
    "Notice anything different with the Cauchy? You may need to set `log=True` for the histogram function. What's happening here?"
   ]
  },
  {
   "cell_type": "code",
   "execution_count": null,
   "metadata": {},
   "outputs": [],
   "source": []
  },
  {
   "cell_type": "code",
   "execution_count": null,
   "metadata": {},
   "outputs": [],
   "source": []
  }
 ],
 "metadata": {
  "kernelspec": {
   "display_name": "Python 3",
   "language": "python",
   "name": "python3"
  },
  "language_info": {
   "codemirror_mode": {
    "name": "ipython",
    "version": 3
   },
   "file_extension": ".py",
   "mimetype": "text/x-python",
   "name": "python",
   "nbconvert_exporter": "python",
   "pygments_lexer": "ipython3",
   "version": "3.6.9"
  }
 },
 "nbformat": 4,
 "nbformat_minor": 2
}
